{
 "cells": [
  {
   "cell_type": "markdown",
   "metadata": {},
   "source": [
    "## Stock Price Prediction\n",
    "\n",
    "#### Dataset"
   ]
  },
  {
   "cell_type": "code",
<<<<<<< HEAD
   "execution_count": 2,
||||||| merged common ancestors
   "execution_count": 3,
=======
   "execution_count": 16,
>>>>>>> e84d4e8996963de51c04bce1e7069e9f8851c1d2
   "metadata": {},
   "outputs": [
    {
     "data": {
      "text/html": [
       "<div>\n",
       "<style scoped>\n",
       "    .dataframe tbody tr th:only-of-type {\n",
       "        vertical-align: middle;\n",
       "    }\n",
       "\n",
       "    .dataframe tbody tr th {\n",
       "        vertical-align: top;\n",
       "    }\n",
       "\n",
       "    .dataframe thead th {\n",
       "        text-align: right;\n",
       "    }\n",
       "</style>\n",
       "<table border=\"1\" class=\"dataframe\">\n",
       "  <thead>\n",
       "    <tr style=\"text-align: right;\">\n",
       "      <th></th>\n",
       "      <th>Date</th>\n",
       "      <th>Open</th>\n",
       "      <th>High</th>\n",
       "      <th>Low</th>\n",
       "      <th>Close</th>\n",
       "      <th>Volume</th>\n",
       "    </tr>\n",
       "  </thead>\n",
       "  <tbody>\n",
       "    <tr>\n",
       "      <th>0</th>\n",
       "      <td>30-Jun-17</td>\n",
       "      <td>943.99</td>\n",
       "      <td>945.00</td>\n",
       "      <td>929.61</td>\n",
       "      <td>929.68</td>\n",
       "      <td>2287662</td>\n",
       "    </tr>\n",
       "    <tr>\n",
       "      <th>1</th>\n",
       "      <td>29-Jun-17</td>\n",
       "      <td>951.35</td>\n",
       "      <td>951.66</td>\n",
       "      <td>929.60</td>\n",
       "      <td>937.82</td>\n",
       "      <td>3206674</td>\n",
       "    </tr>\n",
       "    <tr>\n",
       "      <th>2</th>\n",
       "      <td>28-Jun-17</td>\n",
       "      <td>950.66</td>\n",
       "      <td>963.24</td>\n",
       "      <td>936.16</td>\n",
       "      <td>961.01</td>\n",
       "      <td>2745568</td>\n",
       "    </tr>\n",
       "    <tr>\n",
       "      <th>3</th>\n",
       "      <td>27-Jun-17</td>\n",
       "      <td>961.60</td>\n",
       "      <td>967.22</td>\n",
       "      <td>947.09</td>\n",
       "      <td>948.09</td>\n",
       "      <td>2443602</td>\n",
       "    </tr>\n",
       "    <tr>\n",
       "      <th>4</th>\n",
       "      <td>26-Jun-17</td>\n",
       "      <td>990.00</td>\n",
       "      <td>993.99</td>\n",
       "      <td>970.33</td>\n",
       "      <td>972.09</td>\n",
       "      <td>1517912</td>\n",
       "    </tr>\n",
       "  </tbody>\n",
       "</table>\n",
       "</div>"
      ],
      "text/plain": [
       "        Date    Open    High     Low   Close   Volume\n",
       "0  30-Jun-17  943.99  945.00  929.61  929.68  2287662\n",
       "1  29-Jun-17  951.35  951.66  929.60  937.82  3206674\n",
       "2  28-Jun-17  950.66  963.24  936.16  961.01  2745568\n",
       "3  27-Jun-17  961.60  967.22  947.09  948.09  2443602\n",
       "4  26-Jun-17  990.00  993.99  970.33  972.09  1517912"
      ]
     },
<<<<<<< HEAD
     "execution_count": 2,
||||||| merged common ancestors
     "execution_count": 3,
=======
     "execution_count": 16,
>>>>>>> e84d4e8996963de51c04bce1e7069e9f8851c1d2
     "metadata": {},
     "output_type": "execute_result"
    }
   ],
   "source": [
    "import pandas as pd\n",
    "import numpy as np\n",
    "\n",
    "dataframe = pd.read_csv(\"google.csv\")\n",
    "dataframe.head()"
   ]
  },
  {
   "cell_type": "markdown",
   "metadata": {},
   "source": [
    "#### Dropping the Data Attribute"
   ]
  },
  {
   "cell_type": "code",
<<<<<<< HEAD
   "execution_count": 3,
||||||| merged common ancestors
   "execution_count": 4,
=======
   "execution_count": 17,
>>>>>>> e84d4e8996963de51c04bce1e7069e9f8851c1d2
   "metadata": {},
   "outputs": [
    {
     "data": {
      "text/html": [
       "<div>\n",
       "<style scoped>\n",
       "    .dataframe tbody tr th:only-of-type {\n",
       "        vertical-align: middle;\n",
       "    }\n",
       "\n",
       "    .dataframe tbody tr th {\n",
       "        vertical-align: top;\n",
       "    }\n",
       "\n",
       "    .dataframe thead th {\n",
       "        text-align: right;\n",
       "    }\n",
       "</style>\n",
       "<table border=\"1\" class=\"dataframe\">\n",
       "  <thead>\n",
       "    <tr style=\"text-align: right;\">\n",
       "      <th></th>\n",
       "      <th>Day</th>\n",
       "      <th>Open</th>\n",
       "      <th>High</th>\n",
       "      <th>Low</th>\n",
       "      <th>Close</th>\n",
       "      <th>Volume</th>\n",
       "    </tr>\n",
       "  </thead>\n",
       "  <tbody>\n",
       "    <tr>\n",
       "      <th>0</th>\n",
       "      <td>0</td>\n",
       "      <td>943.99</td>\n",
       "      <td>945.00</td>\n",
       "      <td>929.61</td>\n",
       "      <td>929.68</td>\n",
       "      <td>2287662</td>\n",
       "    </tr>\n",
       "    <tr>\n",
       "      <th>1</th>\n",
       "      <td>1</td>\n",
       "      <td>951.35</td>\n",
       "      <td>951.66</td>\n",
       "      <td>929.60</td>\n",
       "      <td>937.82</td>\n",
       "      <td>3206674</td>\n",
       "    </tr>\n",
       "    <tr>\n",
       "      <th>2</th>\n",
       "      <td>2</td>\n",
       "      <td>950.66</td>\n",
       "      <td>963.24</td>\n",
       "      <td>936.16</td>\n",
       "      <td>961.01</td>\n",
       "      <td>2745568</td>\n",
       "    </tr>\n",
       "    <tr>\n",
       "      <th>3</th>\n",
       "      <td>3</td>\n",
       "      <td>961.60</td>\n",
       "      <td>967.22</td>\n",
       "      <td>947.09</td>\n",
       "      <td>948.09</td>\n",
       "      <td>2443602</td>\n",
       "    </tr>\n",
       "    <tr>\n",
       "      <th>4</th>\n",
       "      <td>4</td>\n",
       "      <td>990.00</td>\n",
       "      <td>993.99</td>\n",
       "      <td>970.33</td>\n",
       "      <td>972.09</td>\n",
       "      <td>1517912</td>\n",
       "    </tr>\n",
       "  </tbody>\n",
       "</table>\n",
       "</div>"
      ],
      "text/plain": [
       "   Day    Open    High     Low   Close   Volume\n",
       "0    0  943.99  945.00  929.61  929.68  2287662\n",
       "1    1  951.35  951.66  929.60  937.82  3206674\n",
       "2    2  950.66  963.24  936.16  961.01  2745568\n",
       "3    3  961.60  967.22  947.09  948.09  2443602\n",
       "4    4  990.00  993.99  970.33  972.09  1517912"
      ]
     },
<<<<<<< HEAD
     "execution_count": 3,
||||||| merged common ancestors
     "execution_count": 4,
=======
     "execution_count": 17,
>>>>>>> e84d4e8996963de51c04bce1e7069e9f8851c1d2
     "metadata": {},
     "output_type": "execute_result"
    }
   ],
   "source": [
    "dataframe.drop('Date', axis=1, inplace=True)\n",
    "day = list(range(len(dataframe)))\n",
    "dataframe['Day'] = day\n",
    "dataframe = dataframe[['Day', 'Open', 'High', 'Low', 'Close', 'Volume']]\n",
    "dataframe.head()"
   ]
  },
  {
   "cell_type": "markdown",
   "metadata": {},
   "source": [
    "#### Data Normalization  "
   ]
  },
  {
   "cell_type": "code",
<<<<<<< HEAD
   "execution_count": 8,
||||||| merged common ancestors
   "execution_count": 5,
=======
   "execution_count": 18,
>>>>>>> e84d4e8996963de51c04bce1e7069e9f8851c1d2
   "metadata": {},
   "outputs": [
    {
     "data": {
      "text/html": [
       "<div>\n",
       "<style scoped>\n",
       "    .dataframe tbody tr th:only-of-type {\n",
       "        vertical-align: middle;\n",
       "    }\n",
       "\n",
       "    .dataframe tbody tr th {\n",
       "        vertical-align: top;\n",
       "    }\n",
       "\n",
       "    .dataframe thead th {\n",
       "        text-align: right;\n",
       "    }\n",
       "</style>\n",
       "<table border=\"1\" class=\"dataframe\">\n",
       "  <thead>\n",
       "    <tr style=\"text-align: right;\">\n",
       "      <th></th>\n",
       "      <th>Day</th>\n",
       "      <th>Open</th>\n",
       "      <th>High</th>\n",
       "      <th>Low</th>\n",
       "      <th>Close</th>\n",
       "      <th>Volume</th>\n",
       "    </tr>\n",
       "  </thead>\n",
       "  <tbody>\n",
       "    <tr>\n",
       "      <th>0</th>\n",
       "      <td>0.000000</td>\n",
       "      <td>0.038426</td>\n",
       "      <td>0.038164</td>\n",
       "      <td>0.038188</td>\n",
       "      <td>0.037858</td>\n",
       "      <td>0.007131</td>\n",
       "    </tr>\n",
       "    <tr>\n",
       "      <th>1</th>\n",
       "      <td>0.000010</td>\n",
       "      <td>0.038726</td>\n",
       "      <td>0.038433</td>\n",
       "      <td>0.038188</td>\n",
       "      <td>0.038190</td>\n",
       "      <td>0.009996</td>\n",
       "    </tr>\n",
       "    <tr>\n",
       "      <th>2</th>\n",
       "      <td>0.000020</td>\n",
       "      <td>0.038698</td>\n",
       "      <td>0.038901</td>\n",
       "      <td>0.038457</td>\n",
       "      <td>0.039134</td>\n",
       "      <td>0.008558</td>\n",
       "    </tr>\n",
       "    <tr>\n",
       "      <th>3</th>\n",
       "      <td>0.000029</td>\n",
       "      <td>0.039143</td>\n",
       "      <td>0.039062</td>\n",
       "      <td>0.038906</td>\n",
       "      <td>0.038608</td>\n",
       "      <td>0.007617</td>\n",
       "    </tr>\n",
       "    <tr>\n",
       "      <th>4</th>\n",
       "      <td>0.000039</td>\n",
       "      <td>0.040299</td>\n",
       "      <td>0.040143</td>\n",
       "      <td>0.039861</td>\n",
       "      <td>0.039585</td>\n",
       "      <td>0.004732</td>\n",
       "    </tr>\n",
       "  </tbody>\n",
       "</table>\n",
       "</div>"
      ],
      "text/plain": [
       "        Day      Open      High       Low     Close    Volume\n",
       "0  0.000000  0.038426  0.038164  0.038188  0.037858  0.007131\n",
       "1  0.000010  0.038726  0.038433  0.038188  0.038190  0.009996\n",
       "2  0.000020  0.038698  0.038901  0.038457  0.039134  0.008558\n",
       "3  0.000029  0.039143  0.039062  0.038906  0.038608  0.007617\n",
       "4  0.000039  0.040299  0.040143  0.039861  0.039585  0.004732"
      ]
     },
<<<<<<< HEAD
     "execution_count": 8,
||||||| merged common ancestors
     "execution_count": 5,
=======
     "execution_count": 18,
>>>>>>> e84d4e8996963de51c04bce1e7069e9f8851c1d2
     "metadata": {},
     "output_type": "execute_result"
    }
   ],
   "source": [
    "from sklearn.preprocessing import Normalizer, MinMaxScaler, StandardScaler\n",
    "\n",
    "column_name = dataframe.columns\n",
    "data = Normalizer().fit_transform(dataframe.transpose())\n",
    "normalized_data = pd.DataFrame(data.transpose(), columns=column_name)\n",
    "normalized_data.head()\n"
   ]
  },
  {
   "cell_type": "code",
<<<<<<< HEAD
   "execution_count": 9,
||||||| merged common ancestors
   "execution_count": 8,
=======
   "execution_count": 19,
>>>>>>> e84d4e8996963de51c04bce1e7069e9f8851c1d2
   "metadata": {},
   "outputs": [
    {
     "data": {
<<<<<<< HEAD
      "image/png": "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\n",
||||||| merged common ancestors
      "image/png": "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\n",
=======
      "image/png": "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\n",
>>>>>>> e84d4e8996963de51c04bce1e7069e9f8851c1d2
      "text/plain": [
       "<Figure size 1296x864 with 1 Axes>"
      ]
     },
     "metadata": {
      "needs_background": "light"
     },
     "output_type": "display_data"
    }
   ],
   "source": [
    "import matplotlib.pyplot as plt\n",
    "plt.rcParams['figure.figsize'] = (18, 12)\n",
    "\n",
    "fig, ax = plt.subplots()\n",
<<<<<<< HEAD
    "ax.plot(range(len(dataframe), 0,-1), normalized_data['Open'], 'Blue')\n",
||||||| merged common ancestors
    "ax.plot(range(len(dataframe), 0,-1), normalized_data['Volume'], 'Blue')\n",
=======
    "ax.plot(range(len(dataframe), 0,-1), normalized_data['Close'], 'Blue')\n",
>>>>>>> e84d4e8996963de51c04bce1e7069e9f8851c1d2
    "\n",
    "ax.format_ydata = 'price'\n",
    "ax.set_title('Google Trading')\n",
    "\n",
    "# Add labels\n",
    "plt.ylabel('Price USD')\n",
    "plt.xlabel('Trading Days')\n",
    "\n",
    "plt.show()"
   ]
  },
  {
   "cell_type": "markdown",
   "metadata": {},
   "source": [
    "#### Polynomial Regression using one feature\n",
    "\n",
    "\n",
    "\n",
    "\n",
    "\n",
    "\n",
    "\n",
    "\n",
    "\n",
    "\n",
    "\n",
    "\n",
    "\n",
    "\n",
    "\n",
    "\n",
    "\n",
    "\n",
    "\n",
    "\n",
    "\n",
    "\n",
    "\n",
    "\n",
    "\n",
    "\n",
    "\n",
    "\n",
    "\n",
    "\n",
    "\n",
    "\n",
    "\n",
    "\n",
    "\n",
    "\n",
    "\n",
    "\n",
    "\n",
    "\n",
    "\n",
    "\n",
    "\n",
    "\n",
    "\n",
    "\n",
    "\n",
    "\n",
    "\n",
    "\n",
    "\n"
   ]
  },
  {
   "cell_type": "code",
<<<<<<< HEAD
   "execution_count": 10,
||||||| merged common ancestors
   "execution_count": 7,
=======
   "execution_count": 20,
>>>>>>> e84d4e8996963de51c04bce1e7069e9f8851c1d2
   "metadata": {},
   "outputs": [],
   "source": [
    "from sklearn.linear_model import LinearRegression\n",
    "from sklearn.preprocessing import PolynomialFeatures"
   ]
  },
  {
   "cell_type": "markdown",
   "metadata": {},
   "source": [
    "#### creating trainX and trainY"
   ]
  },
  {
   "cell_type": "code",
<<<<<<< HEAD
   "execution_count": 11,
||||||| merged common ancestors
   "execution_count": 32,
=======
   "execution_count": 21,
>>>>>>> e84d4e8996963de51c04bce1e7069e9f8851c1d2
   "metadata": {},
   "outputs": [],
   "source": [
    "X = np.array(pd.DataFrame(dataframe, columns=['Day']))\n",
    "y = np.array(pd.DataFrame(dataframe, columns=['Close']))"
   ]
  },
  {
   "cell_type": "code",
<<<<<<< HEAD
   "execution_count": 12,
||||||| merged common ancestors
   "execution_count": 33,
=======
   "execution_count": 22,
>>>>>>> e84d4e8996963de51c04bce1e7069e9f8851c1d2
   "metadata": {},
   "outputs": [],
   "source": [
    "X_train = X[:int((0.75)*len(normalized_data))]\n",
    "X_test = X[int((0.75)*len(normalized_data)):]\n",
    "y_train = y[:int((0.75)*len(normalized_data))]\n",
    "y_test = y[int((0.75)*len(normalized_data)):]"
   ]
  },
  {
   "cell_type": "code",
<<<<<<< HEAD
   "execution_count": 13,
   "metadata": {},
   "outputs": [
    {
     "data": {
      "text/plain": [
       "array([[   0],\n",
       "       [   1],\n",
       "       [   2],\n",
       "       ...,\n",
       "       [2355],\n",
       "       [2356],\n",
       "       [2357]])"
      ]
     },
     "execution_count": 13,
     "metadata": {},
     "output_type": "execute_result"
    }
   ],
   "source": [
    "X_train"
   ]
  },
  {
   "cell_type": "code",
   "execution_count": 14,
||||||| merged common ancestors
   "execution_count": 35,
=======
   "execution_count": 23,
>>>>>>> e84d4e8996963de51c04bce1e7069e9f8851c1d2
   "metadata": {},
   "outputs": [
    {
     "name": "stdout",
     "output_type": "stream",
     "text": [
      "(2358, 1) (787, 1) (2358, 1) (787, 1)\n"
     ]
    }
   ],
   "source": [
    "print(X_train.shape,X_test.shape, y_train.shape, y_test.shape)"
   ]
  },
  {
   "cell_type": "code",
<<<<<<< HEAD
   "execution_count": 15,
||||||| merged common ancestors
   "execution_count": 37,
=======
   "execution_count": 24,
>>>>>>> e84d4e8996963de51c04bce1e7069e9f8851c1d2
   "metadata": {},
   "outputs": [],
   "source": [
    "# X_train = np.reshape(X_train, (X_train.shape[0], 1))\n",
    "# y_train = np.reshape(y_train, (y_train.shape[0], 1))\n",
    "# X_test = np.reshape(X_test, (X_test.shape[0], 1))"
   ]
  },
  {
   "cell_type": "code",
   "execution_count": 16,
   "metadata": {},
   "outputs": [],
   "source": [
    "poly = PolynomialFeatures(3)\n",
    "poly_X = poly.fit_transform(X_train)"
   ]
  },
  {
   "cell_type": "code",
<<<<<<< HEAD
   "execution_count": 17,
||||||| merged common ancestors
   "execution_count": 39,
=======
   "execution_count": 47,
>>>>>>> e84d4e8996963de51c04bce1e7069e9f8851c1d2
   "metadata": {},
<<<<<<< HEAD
   "outputs": [],
||||||| merged common ancestors
   "outputs": [
    {
     "data": {
      "text/plain": [
       "LinearRegression(copy_X=True, fit_intercept=True, n_jobs=None,\n",
       "         normalize=False)"
      ]
     },
     "execution_count": 39,
     "metadata": {},
     "output_type": "execute_result"
    }
   ],
=======
   "outputs": [
    {
     "data": {
      "text/plain": [
       "LinearRegression(copy_X=True, fit_intercept=True, n_jobs=None,\n",
       "         normalize=False)"
      ]
     },
     "execution_count": 47,
     "metadata": {},
     "output_type": "execute_result"
    }
   ],
>>>>>>> e84d4e8996963de51c04bce1e7069e9f8851c1d2
   "source": [
    "model = LinearRegression()\n",
    "model = model.fit(poly_X,y_train)"
   ]
  },
  {
   "cell_type": "code",
<<<<<<< HEAD
   "execution_count": 18,
||||||| merged common ancestors
   "execution_count": 40,
=======
   "execution_count": 29,
>>>>>>> e84d4e8996963de51c04bce1e7069e9f8851c1d2
   "metadata": {},
   "outputs": [],
   "source": [
    "poly_test = poly.fit_transform(X_test)"
   ]
  },
  {
   "cell_type": "code",
<<<<<<< HEAD
   "execution_count": 19,
   "metadata": {
    "scrolled": false
   },
   "outputs": [],
||||||| merged common ancestors
   "execution_count": 41,
   "metadata": {},
   "outputs": [],
=======
   "execution_count": 57,
   "metadata": {},
   "outputs": [
    {
     "data": {
      "text/plain": [
       "(629, 1)"
      ]
     },
     "execution_count": 57,
     "metadata": {},
     "output_type": "execute_result"
    }
   ],
>>>>>>> e84d4e8996963de51c04bce1e7069e9f8851c1d2
   "source": [
    "y_pred = model.predict(poly_test)\n",
    "y_pred.shape"
   ]
  },
  {
   "cell_type": "code",
<<<<<<< HEAD
   "execution_count": 20,
||||||| merged common ancestors
   "execution_count": null,
=======
   "execution_count": 51,
   "metadata": {},
   "outputs": [
    {
     "data": {
      "text/plain": [
       "(629, 1)"
      ]
     },
     "execution_count": 51,
     "metadata": {},
     "output_type": "execute_result"
    }
   ],
   "source": [
    "y_test.shape"
   ]
  },
  {
   "cell_type": "code",
   "execution_count": 52,
>>>>>>> e84d4e8996963de51c04bce1e7069e9f8851c1d2
   "metadata": {},
   "outputs": [],
<<<<<<< HEAD
   "source": [
    "# for i in range(len(y_pred)):\n",
    "#      y_pred[i] = (y_pred[i] - min(y_pred))/(max(y_pred)-min(y_pred))"
   ]
  },
  {
   "cell_type": "code",
   "execution_count": 21,
   "metadata": {},
   "outputs": [],
   "source": [
    "#print(model.score(y_pred,y_test))\n",
    "from sklearn.metrics import mean_squared_error, r2_score\n",
    "rmse = mean_squared_error(y_pred, y_test)\n",
    "r2=r2_score(y_pred, y_test)"
   ]
||||||| merged common ancestors
   "source": []
=======
   "source": [
    "#print(model.score(y_pred,y_test))\n",
    "from sklearn.metrics import mean_squared_error,r2_score\n",
    "rmse = mean_squared_error(y_test,y_pred)\n",
    "r2=r2_score(y_test,y_pred)"
   ]
>>>>>>> e84d4e8996963de51c04bce1e7069e9f8851c1d2
  },
  {
   "cell_type": "code",
<<<<<<< HEAD
   "execution_count": 22,
||||||| merged common ancestors
   "execution_count": 43,
=======
   "execution_count": 54,
>>>>>>> e84d4e8996963de51c04bce1e7069e9f8851c1d2
   "metadata": {},
   "outputs": [
    {
<<<<<<< HEAD
     "data": {
      "text/plain": [
       "22180.207242540593"
      ]
     },
     "execution_count": 22,
     "metadata": {},
     "output_type": "execute_result"
||||||| merged common ancestors
     "ename": "ValueError",
     "evalue": "shapes (629,1) and (15,1) not aligned: 1 (dim 1) != 15 (dim 0)",
     "output_type": "error",
     "traceback": [
      "\u001b[0;31m---------------------------------------------------------------------------\u001b[0m",
      "\u001b[0;31mValueError\u001b[0m                                Traceback (most recent call last)",
      "\u001b[0;32m<ipython-input-43-2dbfa2a6ec4c>\u001b[0m in \u001b[0;36m<module>\u001b[0;34m\u001b[0m\n\u001b[0;32m----> 1\u001b[0;31m \u001b[0mprint\u001b[0m\u001b[0;34m(\u001b[0m\u001b[0mmodel\u001b[0m\u001b[0;34m.\u001b[0m\u001b[0mscore\u001b[0m\u001b[0;34m(\u001b[0m\u001b[0my_pred\u001b[0m\u001b[0;34m,\u001b[0m\u001b[0my_test\u001b[0m\u001b[0;34m)\u001b[0m\u001b[0;34m)\u001b[0m\u001b[0;34m\u001b[0m\u001b[0m\n\u001b[0m",
      "\u001b[0;32m~/anaconda3/lib/python3.6/site-packages/sklearn/base.py\u001b[0m in \u001b[0;36mscore\u001b[0;34m(self, X, y, sample_weight)\u001b[0m\n\u001b[1;32m    326\u001b[0m \u001b[0;34m\u001b[0m\u001b[0m\n\u001b[1;32m    327\u001b[0m         \u001b[0;32mfrom\u001b[0m \u001b[0;34m.\u001b[0m\u001b[0mmetrics\u001b[0m \u001b[0;32mimport\u001b[0m \u001b[0mr2_score\u001b[0m\u001b[0;34m\u001b[0m\u001b[0m\n\u001b[0;32m--> 328\u001b[0;31m         return r2_score(y, self.predict(X), sample_weight=sample_weight,\n\u001b[0m\u001b[1;32m    329\u001b[0m                         multioutput='variance_weighted')\n\u001b[1;32m    330\u001b[0m \u001b[0;34m\u001b[0m\u001b[0m\n",
      "\u001b[0;32m~/anaconda3/lib/python3.6/site-packages/sklearn/linear_model/base.py\u001b[0m in \u001b[0;36mpredict\u001b[0;34m(self, X)\u001b[0m\n\u001b[1;32m    211\u001b[0m             \u001b[0mReturns\u001b[0m \u001b[0mpredicted\u001b[0m \u001b[0mvalues\u001b[0m\u001b[0;34m.\u001b[0m\u001b[0;34m\u001b[0m\u001b[0m\n\u001b[1;32m    212\u001b[0m         \"\"\"\n\u001b[0;32m--> 213\u001b[0;31m         \u001b[0;32mreturn\u001b[0m \u001b[0mself\u001b[0m\u001b[0;34m.\u001b[0m\u001b[0m_decision_function\u001b[0m\u001b[0;34m(\u001b[0m\u001b[0mX\u001b[0m\u001b[0;34m)\u001b[0m\u001b[0;34m\u001b[0m\u001b[0m\n\u001b[0m\u001b[1;32m    214\u001b[0m \u001b[0;34m\u001b[0m\u001b[0m\n\u001b[1;32m    215\u001b[0m     \u001b[0m_preprocess_data\u001b[0m \u001b[0;34m=\u001b[0m \u001b[0mstaticmethod\u001b[0m\u001b[0;34m(\u001b[0m\u001b[0m_preprocess_data\u001b[0m\u001b[0;34m)\u001b[0m\u001b[0;34m\u001b[0m\u001b[0m\n",
      "\u001b[0;32m~/anaconda3/lib/python3.6/site-packages/sklearn/linear_model/base.py\u001b[0m in \u001b[0;36m_decision_function\u001b[0;34m(self, X)\u001b[0m\n\u001b[1;32m    196\u001b[0m         \u001b[0mX\u001b[0m \u001b[0;34m=\u001b[0m \u001b[0mcheck_array\u001b[0m\u001b[0;34m(\u001b[0m\u001b[0mX\u001b[0m\u001b[0;34m,\u001b[0m \u001b[0maccept_sparse\u001b[0m\u001b[0;34m=\u001b[0m\u001b[0;34m[\u001b[0m\u001b[0;34m'csr'\u001b[0m\u001b[0;34m,\u001b[0m \u001b[0;34m'csc'\u001b[0m\u001b[0;34m,\u001b[0m \u001b[0;34m'coo'\u001b[0m\u001b[0;34m]\u001b[0m\u001b[0;34m)\u001b[0m\u001b[0;34m\u001b[0m\u001b[0m\n\u001b[1;32m    197\u001b[0m         return safe_sparse_dot(X, self.coef_.T,\n\u001b[0;32m--> 198\u001b[0;31m                                dense_output=True) + self.intercept_\n\u001b[0m\u001b[1;32m    199\u001b[0m \u001b[0;34m\u001b[0m\u001b[0m\n\u001b[1;32m    200\u001b[0m     \u001b[0;32mdef\u001b[0m \u001b[0mpredict\u001b[0m\u001b[0;34m(\u001b[0m\u001b[0mself\u001b[0m\u001b[0;34m,\u001b[0m \u001b[0mX\u001b[0m\u001b[0;34m)\u001b[0m\u001b[0;34m:\u001b[0m\u001b[0;34m\u001b[0m\u001b[0m\n",
      "\u001b[0;32m~/anaconda3/lib/python3.6/site-packages/sklearn/utils/extmath.py\u001b[0m in \u001b[0;36msafe_sparse_dot\u001b[0;34m(a, b, dense_output)\u001b[0m\n\u001b[1;32m    171\u001b[0m         \u001b[0;32mreturn\u001b[0m \u001b[0mret\u001b[0m\u001b[0;34m\u001b[0m\u001b[0m\n\u001b[1;32m    172\u001b[0m     \u001b[0;32melse\u001b[0m\u001b[0;34m:\u001b[0m\u001b[0;34m\u001b[0m\u001b[0m\n\u001b[0;32m--> 173\u001b[0;31m         \u001b[0;32mreturn\u001b[0m \u001b[0mnp\u001b[0m\u001b[0;34m.\u001b[0m\u001b[0mdot\u001b[0m\u001b[0;34m(\u001b[0m\u001b[0ma\u001b[0m\u001b[0;34m,\u001b[0m \u001b[0mb\u001b[0m\u001b[0;34m)\u001b[0m\u001b[0;34m\u001b[0m\u001b[0m\n\u001b[0m\u001b[1;32m    174\u001b[0m \u001b[0;34m\u001b[0m\u001b[0m\n\u001b[1;32m    175\u001b[0m \u001b[0;34m\u001b[0m\u001b[0m\n",
      "\u001b[0;31mValueError\u001b[0m: shapes (629,1) and (15,1) not aligned: 1 (dim 1) != 15 (dim 0)"
     ]
=======
     "name": "stdout",
     "output_type": "stream",
     "text": [
      "8.908195093352233e-07\n",
      "0.999874824339574\n"
     ]
    }
   ],
   "source": [
    "print(rmse*100)\n",
    "print(r2)"
   ]
  },
  {
   "cell_type": "code",
   "execution_count": 59,
   "metadata": {
    "scrolled": true
   },
   "outputs": [
    {
     "ename": "ValueError",
     "evalue": "x and y must have same first dimension, but have shapes (629,) and (2516, 4)",
     "output_type": "error",
     "traceback": [
      "\u001b[0;31m---------------------------------------------------------------------------\u001b[0m",
      "\u001b[0;31mValueError\u001b[0m                                Traceback (most recent call last)",
      "\u001b[0;32m<ipython-input-59-f860b6c79823>\u001b[0m in \u001b[0;36m<module>\u001b[0;34m\u001b[0m\n\u001b[1;32m      3\u001b[0m \u001b[0;34m\u001b[0m\u001b[0m\n\u001b[1;32m      4\u001b[0m \u001b[0mfig\u001b[0m\u001b[0;34m,\u001b[0m \u001b[0max\u001b[0m \u001b[0;34m=\u001b[0m \u001b[0mplt\u001b[0m\u001b[0;34m.\u001b[0m\u001b[0msubplots\u001b[0m\u001b[0;34m(\u001b[0m\u001b[0;34m)\u001b[0m\u001b[0;34m\u001b[0m\u001b[0m\n\u001b[0;32m----> 5\u001b[0;31m \u001b[0max\u001b[0m\u001b[0;34m.\u001b[0m\u001b[0mplot\u001b[0m\u001b[0;34m(\u001b[0m\u001b[0mrange\u001b[0m\u001b[0;34m(\u001b[0m\u001b[0mlen\u001b[0m\u001b[0;34m(\u001b[0m\u001b[0my_test\u001b[0m\u001b[0;34m)\u001b[0m\u001b[0;34m,\u001b[0m \u001b[0;36m0\u001b[0m\u001b[0;34m,\u001b[0m\u001b[0;34m-\u001b[0m\u001b[0;36m1\u001b[0m\u001b[0;34m)\u001b[0m\u001b[0;34m,\u001b[0m \u001b[0mX_train\u001b[0m\u001b[0;34m,\u001b[0m \u001b[0;34m'Blue'\u001b[0m\u001b[0;34m)\u001b[0m\u001b[0;34m\u001b[0m\u001b[0m\n\u001b[0m\u001b[1;32m      6\u001b[0m \u001b[0mfig\u001b[0m\u001b[0;34m,\u001b[0m \u001b[0max\u001b[0m \u001b[0;34m=\u001b[0m \u001b[0mplt\u001b[0m\u001b[0;34m.\u001b[0m\u001b[0msubplots\u001b[0m\u001b[0;34m(\u001b[0m\u001b[0;34m)\u001b[0m\u001b[0;34m\u001b[0m\u001b[0m\n\u001b[1;32m      7\u001b[0m \u001b[0max\u001b[0m\u001b[0;34m.\u001b[0m\u001b[0mplot\u001b[0m\u001b[0;34m(\u001b[0m\u001b[0mrange\u001b[0m\u001b[0;34m(\u001b[0m\u001b[0mlen\u001b[0m\u001b[0;34m(\u001b[0m\u001b[0my_pred\u001b[0m\u001b[0;34m)\u001b[0m\u001b[0;34m,\u001b[0m \u001b[0;36m0\u001b[0m\u001b[0;34m,\u001b[0m\u001b[0;34m-\u001b[0m\u001b[0;36m1\u001b[0m\u001b[0;34m)\u001b[0m\u001b[0;34m,\u001b[0m \u001b[0my_pred\u001b[0m\u001b[0;34m,\u001b[0m \u001b[0;34m'Red'\u001b[0m\u001b[0;34m)\u001b[0m\u001b[0;34m\u001b[0m\u001b[0m\n",
      "\u001b[0;32m~/anaconda3/lib/python3.6/site-packages/matplotlib/__init__.py\u001b[0m in \u001b[0;36minner\u001b[0;34m(ax, data, *args, **kwargs)\u001b[0m\n\u001b[1;32m   1808\u001b[0m                         \u001b[0;34m\"the Matplotlib list!)\"\u001b[0m \u001b[0;34m%\u001b[0m \u001b[0;34m(\u001b[0m\u001b[0mlabel_namer\u001b[0m\u001b[0;34m,\u001b[0m \u001b[0mfunc\u001b[0m\u001b[0;34m.\u001b[0m\u001b[0m__name__\u001b[0m\u001b[0;34m)\u001b[0m\u001b[0;34m,\u001b[0m\u001b[0;34m\u001b[0m\u001b[0m\n\u001b[1;32m   1809\u001b[0m                         RuntimeWarning, stacklevel=2)\n\u001b[0;32m-> 1810\u001b[0;31m             \u001b[0;32mreturn\u001b[0m \u001b[0mfunc\u001b[0m\u001b[0;34m(\u001b[0m\u001b[0max\u001b[0m\u001b[0;34m,\u001b[0m \u001b[0;34m*\u001b[0m\u001b[0margs\u001b[0m\u001b[0;34m,\u001b[0m \u001b[0;34m**\u001b[0m\u001b[0mkwargs\u001b[0m\u001b[0;34m)\u001b[0m\u001b[0;34m\u001b[0m\u001b[0m\n\u001b[0m\u001b[1;32m   1811\u001b[0m \u001b[0;34m\u001b[0m\u001b[0m\n\u001b[1;32m   1812\u001b[0m         inner.__doc__ = _add_data_doc(inner.__doc__,\n",
      "\u001b[0;32m~/anaconda3/lib/python3.6/site-packages/matplotlib/axes/_axes.py\u001b[0m in \u001b[0;36mplot\u001b[0;34m(self, scalex, scaley, *args, **kwargs)\u001b[0m\n\u001b[1;32m   1609\u001b[0m         \u001b[0mkwargs\u001b[0m \u001b[0;34m=\u001b[0m \u001b[0mcbook\u001b[0m\u001b[0;34m.\u001b[0m\u001b[0mnormalize_kwargs\u001b[0m\u001b[0;34m(\u001b[0m\u001b[0mkwargs\u001b[0m\u001b[0;34m,\u001b[0m \u001b[0mmlines\u001b[0m\u001b[0;34m.\u001b[0m\u001b[0mLine2D\u001b[0m\u001b[0;34m.\u001b[0m\u001b[0m_alias_map\u001b[0m\u001b[0;34m)\u001b[0m\u001b[0;34m\u001b[0m\u001b[0m\n\u001b[1;32m   1610\u001b[0m \u001b[0;34m\u001b[0m\u001b[0m\n\u001b[0;32m-> 1611\u001b[0;31m         \u001b[0;32mfor\u001b[0m \u001b[0mline\u001b[0m \u001b[0;32min\u001b[0m \u001b[0mself\u001b[0m\u001b[0;34m.\u001b[0m\u001b[0m_get_lines\u001b[0m\u001b[0;34m(\u001b[0m\u001b[0;34m*\u001b[0m\u001b[0margs\u001b[0m\u001b[0;34m,\u001b[0m \u001b[0;34m**\u001b[0m\u001b[0mkwargs\u001b[0m\u001b[0;34m)\u001b[0m\u001b[0;34m:\u001b[0m\u001b[0;34m\u001b[0m\u001b[0m\n\u001b[0m\u001b[1;32m   1612\u001b[0m             \u001b[0mself\u001b[0m\u001b[0;34m.\u001b[0m\u001b[0madd_line\u001b[0m\u001b[0;34m(\u001b[0m\u001b[0mline\u001b[0m\u001b[0;34m)\u001b[0m\u001b[0;34m\u001b[0m\u001b[0m\n\u001b[1;32m   1613\u001b[0m             \u001b[0mlines\u001b[0m\u001b[0;34m.\u001b[0m\u001b[0mappend\u001b[0m\u001b[0;34m(\u001b[0m\u001b[0mline\u001b[0m\u001b[0;34m)\u001b[0m\u001b[0;34m\u001b[0m\u001b[0m\n",
      "\u001b[0;32m~/anaconda3/lib/python3.6/site-packages/matplotlib/axes/_base.py\u001b[0m in \u001b[0;36m_grab_next_args\u001b[0;34m(self, *args, **kwargs)\u001b[0m\n\u001b[1;32m    391\u001b[0m                 \u001b[0mthis\u001b[0m \u001b[0;34m+=\u001b[0m \u001b[0margs\u001b[0m\u001b[0;34m[\u001b[0m\u001b[0;36m0\u001b[0m\u001b[0;34m]\u001b[0m\u001b[0;34m,\u001b[0m\u001b[0;34m\u001b[0m\u001b[0m\n\u001b[1;32m    392\u001b[0m                 \u001b[0margs\u001b[0m \u001b[0;34m=\u001b[0m \u001b[0margs\u001b[0m\u001b[0;34m[\u001b[0m\u001b[0;36m1\u001b[0m\u001b[0;34m:\u001b[0m\u001b[0;34m]\u001b[0m\u001b[0;34m\u001b[0m\u001b[0m\n\u001b[0;32m--> 393\u001b[0;31m             \u001b[0;32myield\u001b[0m \u001b[0;32mfrom\u001b[0m \u001b[0mself\u001b[0m\u001b[0;34m.\u001b[0m\u001b[0m_plot_args\u001b[0m\u001b[0;34m(\u001b[0m\u001b[0mthis\u001b[0m\u001b[0;34m,\u001b[0m \u001b[0mkwargs\u001b[0m\u001b[0;34m)\u001b[0m\u001b[0;34m\u001b[0m\u001b[0m\n\u001b[0m\u001b[1;32m    394\u001b[0m \u001b[0;34m\u001b[0m\u001b[0m\n\u001b[1;32m    395\u001b[0m \u001b[0;34m\u001b[0m\u001b[0m\n",
      "\u001b[0;32m~/anaconda3/lib/python3.6/site-packages/matplotlib/axes/_base.py\u001b[0m in \u001b[0;36m_plot_args\u001b[0;34m(self, tup, kwargs)\u001b[0m\n\u001b[1;32m    368\u001b[0m             \u001b[0mx\u001b[0m\u001b[0;34m,\u001b[0m \u001b[0my\u001b[0m \u001b[0;34m=\u001b[0m \u001b[0mindex_of\u001b[0m\u001b[0;34m(\u001b[0m\u001b[0mtup\u001b[0m\u001b[0;34m[\u001b[0m\u001b[0;34m-\u001b[0m\u001b[0;36m1\u001b[0m\u001b[0;34m]\u001b[0m\u001b[0;34m)\u001b[0m\u001b[0;34m\u001b[0m\u001b[0m\n\u001b[1;32m    369\u001b[0m \u001b[0;34m\u001b[0m\u001b[0m\n\u001b[0;32m--> 370\u001b[0;31m         \u001b[0mx\u001b[0m\u001b[0;34m,\u001b[0m \u001b[0my\u001b[0m \u001b[0;34m=\u001b[0m \u001b[0mself\u001b[0m\u001b[0;34m.\u001b[0m\u001b[0m_xy_from_xy\u001b[0m\u001b[0;34m(\u001b[0m\u001b[0mx\u001b[0m\u001b[0;34m,\u001b[0m \u001b[0my\u001b[0m\u001b[0;34m)\u001b[0m\u001b[0;34m\u001b[0m\u001b[0m\n\u001b[0m\u001b[1;32m    371\u001b[0m \u001b[0;34m\u001b[0m\u001b[0m\n\u001b[1;32m    372\u001b[0m         \u001b[0;32mif\u001b[0m \u001b[0mself\u001b[0m\u001b[0;34m.\u001b[0m\u001b[0mcommand\u001b[0m \u001b[0;34m==\u001b[0m \u001b[0;34m'plot'\u001b[0m\u001b[0;34m:\u001b[0m\u001b[0;34m\u001b[0m\u001b[0m\n",
      "\u001b[0;32m~/anaconda3/lib/python3.6/site-packages/matplotlib/axes/_base.py\u001b[0m in \u001b[0;36m_xy_from_xy\u001b[0;34m(self, x, y)\u001b[0m\n\u001b[1;32m    229\u001b[0m         \u001b[0;32mif\u001b[0m \u001b[0mx\u001b[0m\u001b[0;34m.\u001b[0m\u001b[0mshape\u001b[0m\u001b[0;34m[\u001b[0m\u001b[0;36m0\u001b[0m\u001b[0;34m]\u001b[0m \u001b[0;34m!=\u001b[0m \u001b[0my\u001b[0m\u001b[0;34m.\u001b[0m\u001b[0mshape\u001b[0m\u001b[0;34m[\u001b[0m\u001b[0;36m0\u001b[0m\u001b[0;34m]\u001b[0m\u001b[0;34m:\u001b[0m\u001b[0;34m\u001b[0m\u001b[0m\n\u001b[1;32m    230\u001b[0m             raise ValueError(\"x and y must have same first dimension, but \"\n\u001b[0;32m--> 231\u001b[0;31m                              \"have shapes {} and {}\".format(x.shape, y.shape))\n\u001b[0m\u001b[1;32m    232\u001b[0m         \u001b[0;32mif\u001b[0m \u001b[0mx\u001b[0m\u001b[0;34m.\u001b[0m\u001b[0mndim\u001b[0m \u001b[0;34m>\u001b[0m \u001b[0;36m2\u001b[0m \u001b[0;32mor\u001b[0m \u001b[0my\u001b[0m\u001b[0;34m.\u001b[0m\u001b[0mndim\u001b[0m \u001b[0;34m>\u001b[0m \u001b[0;36m2\u001b[0m\u001b[0;34m:\u001b[0m\u001b[0;34m\u001b[0m\u001b[0m\n\u001b[1;32m    233\u001b[0m             raise ValueError(\"x and y can be no greater than 2-D, but have \"\n",
      "\u001b[0;31mValueError\u001b[0m: x and y must have same first dimension, but have shapes (629,) and (2516, 4)"
     ]
    },
    {
     "data": {
      "image/png": "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\n",
      "text/plain": [
       "<Figure size 1296x432 with 1 Axes>"
      ]
     },
     "metadata": {
      "needs_background": "light"
     },
     "output_type": "display_data"
    }
   ],
   "source": [
    "import matplotlib.pyplot as plt\n",
    "plt.rcParams['figure.figsize'] = (18, 6)\n",
    "\n",
    "fig, ax = plt.subplots()\n",
    "ax.plot(range(len(y_test), 0,-1), , 'Blue')\n",
    "fig, ax = plt.subplots()\n",
    "ax.plot(range(len(y_pred), 0,-1), y_pred, 'Red')\n",
    "\n",
    "ax.format_ydata = 'price'\n",
    "ax.set_title('Google Trading')\n",
    "\n",
    "# Add labels\n",
    "plt.ylabel('Price USD')\n",
    "plt.xlabel('Trading Days')\n",
    "\n",
    "plt.show()"
   ]
  },
  {
   "cell_type": "code",
   "execution_count": 36,
   "metadata": {},
   "outputs": [
    {
     "data": {
      "text/plain": [
       "array([[0.0078656 ],\n",
       "       [0.01101291],\n",
       "       [0.02161063],\n",
       "       [0.00461256],\n",
       "       [0.00988685],\n",
       "       [0.02258728],\n",
       "       [0.01216512],\n",
       "       [0.00463188],\n",
       "       [0.01301198],\n",
       "       [0.00696175],\n",
       "       [0.02614514],\n",
       "       [0.00993935],\n",
       "       [0.03419524],\n",
       "       [0.01100085],\n",
       "       [0.01154214],\n",
       "       [0.02244925],\n",
       "       [0.0120987 ],\n",
       "       [0.0252135 ],\n",
       "       [0.01027536],\n",
       "       [0.0228909 ],\n",
       "       [0.03348555],\n",
       "       [0.00774502],\n",
       "       [0.01572895],\n",
       "       [0.01027286],\n",
       "       [0.01105894],\n",
       "       [0.01170396],\n",
       "       [0.0108926 ],\n",
       "       [0.00594555],\n",
       "       [0.02408213],\n",
       "       [0.01811547],\n",
       "       [0.03303371],\n",
       "       [0.02588118],\n",
       "       [0.02453317],\n",
       "       [0.01400856],\n",
       "       [0.00767422],\n",
       "       [0.0125532 ],\n",
       "       [0.02359402],\n",
       "       [0.01681017],\n",
       "       [0.01194084],\n",
       "       [0.03079462],\n",
       "       [0.01127987],\n",
       "       [0.02398119],\n",
       "       [0.01087627],\n",
       "       [0.0099256 ],\n",
       "       [0.00679837],\n",
       "       [0.0174202 ],\n",
       "       [0.00950509],\n",
       "       [0.00893813],\n",
       "       [0.01223364],\n",
       "       [0.00634277],\n",
       "       [0.00924237],\n",
       "       [0.03050879],\n",
       "       [0.01235375],\n",
       "       [0.01129834],\n",
       "       [0.00708324],\n",
       "       [0.02162804],\n",
       "       [0.01047937],\n",
       "       [0.03073759],\n",
       "       [0.01801857],\n",
       "       [0.01159898],\n",
       "       [0.00488773],\n",
       "       [0.01173824],\n",
       "       [0.03122471],\n",
       "       [0.01247077],\n",
       "       [0.01187206],\n",
       "       [0.00586011],\n",
       "       [0.02143466],\n",
       "       [0.02907842],\n",
       "       [0.00874831],\n",
       "       [0.022052  ],\n",
       "       [0.0164238 ],\n",
       "       [0.00895724],\n",
       "       [0.01776347],\n",
       "       [0.01442393],\n",
       "       [0.02864991],\n",
       "       [0.02326325],\n",
       "       [0.01090236],\n",
       "       [0.02208292],\n",
       "       [0.02261177],\n",
       "       [0.01514033],\n",
       "       [0.01069413],\n",
       "       [0.01040805],\n",
       "       [0.0101034 ],\n",
       "       [0.01093461],\n",
       "       [0.01115436],\n",
       "       [0.00395133],\n",
       "       [0.01333298],\n",
       "       [0.01084851],\n",
       "       [0.02354529],\n",
       "       [0.00870999],\n",
       "       [0.02067179],\n",
       "       [0.01250232],\n",
       "       [0.04074212],\n",
       "       [0.01318417],\n",
       "       [0.03282334],\n",
       "       [0.01309203],\n",
       "       [0.00893673],\n",
       "       [0.00907696],\n",
       "       [0.01046185],\n",
       "       [0.01020069],\n",
       "       [0.01202017],\n",
       "       [0.03234633],\n",
       "       [0.01312374],\n",
       "       [0.00844744],\n",
       "       [0.00385421],\n",
       "       [0.01088214],\n",
       "       [0.02152814],\n",
       "       [0.02250834],\n",
       "       [0.01806479],\n",
       "       [0.01058374],\n",
       "       [0.01255865],\n",
       "       [0.01267368],\n",
       "       [0.01128325],\n",
       "       [0.04084152],\n",
       "       [0.01065103],\n",
       "       [0.00406446],\n",
       "       [0.03043126],\n",
       "       [0.01014795],\n",
       "       [0.0140625 ],\n",
       "       [0.0125624 ],\n",
       "       [0.03019915],\n",
       "       [0.01188214],\n",
       "       [0.01817156],\n",
       "       [0.01084845],\n",
       "       [0.00992704],\n",
       "       [0.03161624],\n",
       "       [0.0124055 ],\n",
       "       [0.01171667],\n",
       "       [0.00865504],\n",
       "       [0.01244541],\n",
       "       [0.01066061],\n",
       "       [0.0125775 ],\n",
       "       [0.01059131],\n",
       "       [0.02551104],\n",
       "       [0.01048476],\n",
       "       [0.01151686],\n",
       "       [0.01276695],\n",
       "       [0.00860702],\n",
       "       [0.03276836],\n",
       "       [0.01262616],\n",
       "       [0.00367129],\n",
       "       [0.03309626],\n",
       "       [0.01084563],\n",
       "       [0.00624072],\n",
       "       [0.02171256],\n",
       "       [0.02479347],\n",
       "       [0.0040673 ],\n",
       "       [0.01088991],\n",
       "       [0.00962746],\n",
       "       [0.00398246],\n",
       "       [0.03100596],\n",
       "       [0.00813368],\n",
       "       [0.01450299],\n",
       "       [0.00623658],\n",
       "       [0.0099825 ],\n",
       "       [0.02241368],\n",
       "       [0.00920947],\n",
       "       [0.01250451],\n",
       "       [0.01186287],\n",
       "       [0.02458692],\n",
       "       [0.0082343 ],\n",
       "       [0.01194479],\n",
       "       [0.01698044],\n",
       "       [0.0120591 ],\n",
       "       [0.00600397],\n",
       "       [0.01230172],\n",
       "       [0.03331569],\n",
       "       [0.03366251],\n",
       "       [0.02330907],\n",
       "       [0.02172699],\n",
       "       [0.00965165],\n",
       "       [0.01049859],\n",
       "       [0.01114138],\n",
       "       [0.0059922 ],\n",
       "       [0.00942347],\n",
       "       [0.01223968],\n",
       "       [0.03103522],\n",
       "       [0.0103182 ],\n",
       "       [0.02392181],\n",
       "       [0.0181926 ],\n",
       "       [0.01780949],\n",
       "       [0.01253516],\n",
       "       [0.03129918],\n",
       "       [0.01767633],\n",
       "       [0.00968551],\n",
       "       [0.01074622],\n",
       "       [0.00592412],\n",
       "       [0.009562  ],\n",
       "       [0.03268494],\n",
       "       [0.03301864],\n",
       "       [0.0249201 ],\n",
       "       [0.00675431],\n",
       "       [0.0061214 ],\n",
       "       [0.01116226],\n",
       "       [0.01083272],\n",
       "       [0.01801424],\n",
       "       [0.01300411],\n",
       "       [0.01078718],\n",
       "       [0.01272171],\n",
       "       [0.02390992],\n",
       "       [0.01255067],\n",
       "       [0.01195795],\n",
       "       [0.02977947],\n",
       "       [0.03363267],\n",
       "       [0.00554339],\n",
       "       [0.0056187 ],\n",
       "       [0.01225207],\n",
       "       [0.00954107],\n",
       "       [0.00381221],\n",
       "       [0.01212671],\n",
       "       [0.0303609 ],\n",
       "       [0.01148477],\n",
       "       [0.00860316],\n",
       "       [0.0107202 ],\n",
       "       [0.02112388],\n",
       "       [0.00996794],\n",
       "       [0.01062148],\n",
       "       [0.02232052],\n",
       "       [0.02877972],\n",
       "       [0.00762617],\n",
       "       [0.01159896],\n",
       "       [0.01217901],\n",
       "       [0.01038949],\n",
       "       [0.00981228],\n",
       "       [0.01766969],\n",
       "       [0.012765  ],\n",
       "       [0.00599196],\n",
       "       [0.01707871],\n",
       "       [0.01141326],\n",
       "       [0.01236298],\n",
       "       [0.01173983],\n",
       "       [0.010511  ],\n",
       "       [0.01267184],\n",
       "       [0.00943178],\n",
       "       [0.02225508],\n",
       "       [0.01260285],\n",
       "       [0.01086274],\n",
       "       [0.00708681],\n",
       "       [0.01228495],\n",
       "       [0.01255702],\n",
       "       [0.01204792],\n",
       "       [0.00995216],\n",
       "       [0.00955547],\n",
       "       [0.01098621],\n",
       "       [0.00969081],\n",
       "       [0.02230901],\n",
       "       [0.01288606],\n",
       "       [0.0090275 ],\n",
       "       [0.00996162],\n",
       "       [0.01782994],\n",
       "       [0.00946564],\n",
       "       [0.0095049 ],\n",
       "       [0.0074885 ],\n",
       "       [0.00624196],\n",
       "       [0.00974691],\n",
       "       [0.00859593],\n",
       "       [0.01080055],\n",
       "       [0.01540837],\n",
       "       [0.00733865],\n",
       "       [0.01090058],\n",
       "       [0.02964455],\n",
       "       [0.01597018],\n",
       "       [0.00730983],\n",
       "       [0.00870027],\n",
       "       [0.01005424],\n",
       "       [0.0180577 ],\n",
       "       [0.0153268 ],\n",
       "       [0.00830442],\n",
       "       [0.01183574],\n",
       "       [0.00964703],\n",
       "       [0.02094412],\n",
       "       [0.02437219],\n",
       "       [0.00453174],\n",
       "       [0.01113308],\n",
       "       [0.00773861],\n",
       "       [0.00762455],\n",
       "       [0.01193859],\n",
       "       [0.00620819],\n",
       "       [0.0121806 ],\n",
       "       [0.03180614],\n",
       "       [0.00752243],\n",
       "       [0.03403547],\n",
       "       [0.00467498],\n",
       "       [0.01417957],\n",
       "       [0.0112961 ],\n",
       "       [0.00597164],\n",
       "       [0.00523429],\n",
       "       [0.01359656],\n",
       "       [0.01751325],\n",
       "       [0.0111795 ],\n",
       "       [0.02354672],\n",
       "       [0.03059685],\n",
       "       [0.03175839],\n",
       "       [0.01270667],\n",
       "       [0.0134355 ],\n",
       "       [0.02162124],\n",
       "       [0.00825943],\n",
       "       [0.00977597],\n",
       "       [0.03239943],\n",
       "       [0.01112078],\n",
       "       [0.00998566],\n",
       "       [0.01232804],\n",
       "       [0.00856354],\n",
       "       [0.00937424],\n",
       "       [0.01155568],\n",
       "       [0.00643103],\n",
       "       [0.01241395],\n",
       "       [0.02747054],\n",
       "       [0.0341974 ],\n",
       "       [0.02210944],\n",
       "       [0.02252919],\n",
       "       [0.00875499],\n",
       "       [0.0288158 ],\n",
       "       [0.00621385],\n",
       "       [0.01206923],\n",
       "       [0.00788509],\n",
       "       [0.01436276],\n",
       "       [0.03244705],\n",
       "       [0.00933729],\n",
       "       [0.01093115],\n",
       "       [0.01123058],\n",
       "       [0.03223151],\n",
       "       [0.00817507],\n",
       "       [0.00965685],\n",
       "       [0.01043928],\n",
       "       [0.00827986],\n",
       "       [0.00790876],\n",
       "       [0.01358222],\n",
       "       [0.01293508],\n",
       "       [0.00704943],\n",
       "       [0.03251915],\n",
       "       [0.00888007],\n",
       "       [0.01744217],\n",
       "       [0.01397422],\n",
       "       [0.00360724],\n",
       "       [0.00635069],\n",
       "       [0.03166751],\n",
       "       [0.02220405],\n",
       "       [0.03196394],\n",
       "       [0.00967882],\n",
       "       [0.00611755],\n",
       "       [0.03122934],\n",
       "       [0.00416389],\n",
       "       [0.01621928],\n",
       "       [0.01445881],\n",
       "       [0.02319726],\n",
       "       [0.01085386],\n",
       "       [0.01022984],\n",
       "       [0.01228264],\n",
       "       [0.00982058],\n",
       "       [0.02623383],\n",
       "       [0.01435168],\n",
       "       [0.0061186 ],\n",
       "       [0.01267943],\n",
       "       [0.02283117],\n",
       "       [0.02373981],\n",
       "       [0.01159816],\n",
       "       [0.00999197],\n",
       "       [0.01187325],\n",
       "       [0.00621571],\n",
       "       [0.03117211],\n",
       "       [0.02198086],\n",
       "       [0.00470965],\n",
       "       [0.00620945],\n",
       "       [0.00893541],\n",
       "       [0.00834931],\n",
       "       [0.01199536],\n",
       "       [0.01103747],\n",
       "       [0.01412974],\n",
       "       [0.02234455],\n",
       "       [0.02091599],\n",
       "       [0.00928455],\n",
       "       [0.01244426],\n",
       "       [0.00933366],\n",
       "       [0.01190168],\n",
       "       [0.00783201],\n",
       "       [0.00659984],\n",
       "       [0.01012576],\n",
       "       [0.00970217],\n",
       "       [0.00618869],\n",
       "       [0.01081481],\n",
       "       [0.02217048],\n",
       "       [0.0104766 ],\n",
       "       [0.02343327],\n",
       "       [0.00490449],\n",
       "       [0.00921259],\n",
       "       [0.03479358],\n",
       "       [0.01281307],\n",
       "       [0.0091527 ],\n",
       "       [0.0110469 ],\n",
       "       [0.02334555],\n",
       "       [0.00990381],\n",
       "       [0.01058479],\n",
       "       [0.01600562],\n",
       "       [0.0099363 ],\n",
       "       [0.00449229],\n",
       "       [0.01376141],\n",
       "       [0.00606544],\n",
       "       [0.02991291],\n",
       "       [0.02675818],\n",
       "       [0.01548096],\n",
       "       [0.00405655],\n",
       "       [0.00585223],\n",
       "       [0.02143408],\n",
       "       [0.0322664 ],\n",
       "       [0.03450514],\n",
       "       [0.02807772],\n",
       "       [0.01023472],\n",
       "       [0.01378924],\n",
       "       [0.01065451],\n",
       "       [0.02896138],\n",
       "       [0.02789333],\n",
       "       [0.02095   ],\n",
       "       [0.00783088],\n",
       "       [0.00714953],\n",
       "       [0.02387591],\n",
       "       [0.00947757],\n",
       "       [0.01252398],\n",
       "       [0.02654763],\n",
       "       [0.01178897],\n",
       "       [0.01241009],\n",
       "       [0.00792619],\n",
       "       [0.01421685],\n",
       "       [0.02363359],\n",
       "       [0.00810504],\n",
       "       [0.02591325],\n",
       "       [0.03523613],\n",
       "       [0.0071966 ],\n",
       "       [0.0121616 ],\n",
       "       [0.00822741],\n",
       "       [0.00875651],\n",
       "       [0.00849157],\n",
       "       [0.01080978],\n",
       "       [0.01194452],\n",
       "       [0.01351493],\n",
       "       [0.02935681],\n",
       "       [0.01667535],\n",
       "       [0.01009558],\n",
       "       [0.01022566],\n",
       "       [0.0108273 ],\n",
       "       [0.00935267],\n",
       "       [0.00603167],\n",
       "       [0.00602037],\n",
       "       [0.01185855],\n",
       "       [0.0215906 ],\n",
       "       [0.01104713],\n",
       "       [0.02306679],\n",
       "       [0.02342384],\n",
       "       [0.01254986],\n",
       "       [0.02214561],\n",
       "       [0.01364393],\n",
       "       [0.01055043],\n",
       "       [0.00949047],\n",
       "       [0.01185228],\n",
       "       [0.01198286],\n",
       "       [0.01873496],\n",
       "       [0.02213844],\n",
       "       [0.01083753],\n",
       "       [0.01312484],\n",
       "       [0.01176815],\n",
       "       [0.02111403],\n",
       "       [0.02678671],\n",
       "       [0.00822482],\n",
       "       [0.01118119],\n",
       "       [0.02704101],\n",
       "       [0.02154111],\n",
       "       [0.01067611],\n",
       "       [0.00989242],\n",
       "       [0.00770526],\n",
       "       [0.01700426],\n",
       "       [0.01826855],\n",
       "       [0.01815226],\n",
       "       [0.00992738],\n",
       "       [0.00913445],\n",
       "       [0.01143429],\n",
       "       [0.03988262],\n",
       "       [0.012179  ],\n",
       "       [0.01483529],\n",
       "       [0.01413549],\n",
       "       [0.00832401],\n",
       "       [0.03232043],\n",
       "       [0.01182882],\n",
       "       [0.02310064],\n",
       "       [0.01102776],\n",
       "       [0.03520685],\n",
       "       [0.01337884],\n",
       "       [0.03231838],\n",
       "       [0.01199784],\n",
       "       [0.0087654 ],\n",
       "       [0.00972483],\n",
       "       [0.00883232],\n",
       "       [0.02347672],\n",
       "       [0.02275811],\n",
       "       [0.0070966 ],\n",
       "       [0.0039945 ],\n",
       "       [0.0341838 ],\n",
       "       [0.00800378],\n",
       "       [0.01244163],\n",
       "       [0.02276427],\n",
       "       [0.0245031 ],\n",
       "       [0.01258963],\n",
       "       [0.0082739 ],\n",
       "       [0.01573731],\n",
       "       [0.02101588],\n",
       "       [0.00947938],\n",
       "       [0.01268694],\n",
       "       [0.03972017],\n",
       "       [0.0124897 ],\n",
       "       [0.00934057],\n",
       "       [0.00363481],\n",
       "       [0.01115334],\n",
       "       [0.02304325],\n",
       "       [0.00791249],\n",
       "       [0.00910462],\n",
       "       [0.01111796],\n",
       "       [0.01264882],\n",
       "       [0.0124497 ],\n",
       "       [0.02265117],\n",
       "       [0.00661507],\n",
       "       [0.00989656],\n",
       "       [0.01119318],\n",
       "       [0.03123449],\n",
       "       [0.03299848],\n",
       "       [0.02218517],\n",
       "       [0.02705551],\n",
       "       [0.01654376],\n",
       "       [0.02141632],\n",
       "       [0.01159088],\n",
       "       [0.01103423],\n",
       "       [0.01750151],\n",
       "       [0.03153226],\n",
       "       [0.02414819],\n",
       "       [0.01285821],\n",
       "       [0.02239888],\n",
       "       [0.03106981],\n",
       "       [0.00851758],\n",
       "       [0.01662597],\n",
       "       [0.02434529],\n",
       "       [0.02072411],\n",
       "       [0.01238982],\n",
       "       [0.00703705],\n",
       "       [0.02265189],\n",
       "       [0.01660923],\n",
       "       [0.00827852],\n",
       "       [0.02790783],\n",
       "       [0.03246826],\n",
       "       [0.00756386],\n",
       "       [0.02407612],\n",
       "       [0.00863615],\n",
       "       [0.0086949 ],\n",
       "       [0.02231607],\n",
       "       [0.00782676],\n",
       "       [0.00695975],\n",
       "       [0.00679611],\n",
       "       [0.01075006],\n",
       "       [0.03236902],\n",
       "       [0.00948644],\n",
       "       [0.02108973],\n",
       "       [0.02266534],\n",
       "       [0.00654988],\n",
       "       [0.01275494],\n",
       "       [0.01000995],\n",
       "       [0.00385277],\n",
       "       [0.02960857],\n",
       "       [0.00940632],\n",
       "       [0.01395108],\n",
       "       [0.00948418],\n",
       "       [0.00776997],\n",
       "       [0.00689465],\n",
       "       [0.02466159],\n",
       "       [0.00382825],\n",
       "       [0.01071974],\n",
       "       [0.00789222],\n",
       "       [0.00369513],\n",
       "       [0.03300903],\n",
       "       [0.02831763],\n",
       "       [0.02268167],\n",
       "       [0.03280715],\n",
       "       [0.02828415],\n",
       "       [0.02257438],\n",
       "       [0.02404041],\n",
       "       [0.02756689],\n",
       "       [0.02452455],\n",
       "       [0.00960713],\n",
       "       [0.01540816],\n",
       "       [0.03306157],\n",
       "       [0.01158121],\n",
       "       [0.02451039],\n",
       "       [0.01095443],\n",
       "       [0.02046664],\n",
       "       [0.02318233],\n",
       "       [0.01141033],\n",
       "       [0.01191758],\n",
       "       [0.00875075],\n",
       "       [0.00909643],\n",
       "       [0.00657619],\n",
       "       [0.01546676],\n",
       "       [0.02441254],\n",
       "       [0.00788802],\n",
       "       [0.01077138],\n",
       "       [0.03453599],\n",
       "       [0.00959662],\n",
       "       [0.00984344],\n",
       "       [0.03545892],\n",
       "       [0.03881304],\n",
       "       [0.02206675],\n",
       "       [0.03108531],\n",
       "       [0.01275874],\n",
       "       [0.01136542],\n",
       "       [0.02341567],\n",
       "       [0.0209727 ],\n",
       "       [0.01093473],\n",
       "       [0.02955119],\n",
       "       [0.00375588],\n",
       "       [0.00728006],\n",
       "       [0.01837735],\n",
       "       [0.01083124],\n",
       "       [0.02064533],\n",
       "       [0.01008022],\n",
       "       [0.00860063],\n",
       "       [0.00986652],\n",
       "       [0.03547388],\n",
       "       [0.00578465],\n",
       "       [0.01606013],\n",
       "       [0.00616387],\n",
       "       [0.00760703],\n",
       "       [0.02149364],\n",
       "       [0.0121849 ],\n",
       "       [0.02915725]])"
      ]
     },
     "execution_count": 36,
     "metadata": {},
     "output_type": "execute_result"
>>>>>>> e84d4e8996963de51c04bce1e7069e9f8851c1d2
    }
   ],
   "source": [
<<<<<<< HEAD
    "rmse"
||||||| merged common ancestors
    "print(model.score(y_pred,y_test))"
=======
    "model.predict(poly_test)"
   ]
  },
  {
   "cell_type": "code",
   "execution_count": 61,
   "metadata": {},
   "outputs": [
    {
     "data": {
      "text/html": [
       "<div>\n",
       "<style scoped>\n",
       "    .dataframe tbody tr th:only-of-type {\n",
       "        vertical-align: middle;\n",
       "    }\n",
       "\n",
       "    .dataframe tbody tr th {\n",
       "        vertical-align: top;\n",
       "    }\n",
       "\n",
       "    .dataframe thead th {\n",
       "        text-align: right;\n",
       "    }\n",
       "</style>\n",
       "<table border=\"1\" class=\"dataframe\">\n",
       "  <thead>\n",
       "    <tr style=\"text-align: right;\">\n",
       "      <th></th>\n",
       "      <th>Date</th>\n",
       "      <th>Open</th>\n",
       "      <th>High</th>\n",
       "      <th>Low</th>\n",
       "      <th>Close</th>\n",
       "      <th>Volume</th>\n",
       "    </tr>\n",
       "  </thead>\n",
       "  <tbody>\n",
       "    <tr>\n",
       "      <th>0</th>\n",
       "      <td>30-Jun-17</td>\n",
       "      <td>943.99</td>\n",
       "      <td>945.00</td>\n",
       "      <td>929.61</td>\n",
       "      <td>929.68</td>\n",
       "      <td>2287662</td>\n",
       "    </tr>\n",
       "    <tr>\n",
       "      <th>1</th>\n",
       "      <td>29-Jun-17</td>\n",
       "      <td>951.35</td>\n",
       "      <td>951.66</td>\n",
       "      <td>929.60</td>\n",
       "      <td>937.82</td>\n",
       "      <td>3206674</td>\n",
       "    </tr>\n",
       "    <tr>\n",
       "      <th>2</th>\n",
       "      <td>28-Jun-17</td>\n",
       "      <td>950.66</td>\n",
       "      <td>963.24</td>\n",
       "      <td>936.16</td>\n",
       "      <td>961.01</td>\n",
       "      <td>2745568</td>\n",
       "    </tr>\n",
       "  </tbody>\n",
       "</table>\n",
       "</div>"
      ],
      "text/plain": [
       "        Date    Open    High     Low   Close   Volume\n",
       "0  30-Jun-17  943.99  945.00  929.61  929.68  2287662\n",
       "1  29-Jun-17  951.35  951.66  929.60  937.82  3206674\n",
       "2  28-Jun-17  950.66  963.24  936.16  961.01  2745568"
      ]
     },
     "execution_count": 61,
     "metadata": {},
     "output_type": "execute_result"
    }
   ],
   "source": [
    "import math\n",
    "import numpy as np\n",
    "import pandas as pd\n",
    "\n",
    "dataframe = pd.read_csv(\"google.csv\")\n",
    "dataframe.head(3)"
   ]
  },
  {
   "cell_type": "code",
   "execution_count": 62,
   "metadata": {},
   "outputs": [],
   "source": [
    "dataframe.drop('Date', axis=1, inplace=True)"
>>>>>>> e84d4e8996963de51c04bce1e7069e9f8851c1d2
   ]
  },
  {
   "cell_type": "code",
   "execution_count": 23,
   "metadata": {},
   "outputs": [
    {
     "data": {
      "text/plain": [
       "-6.774842053132753"
      ]
     },
     "execution_count": 23,
     "metadata": {},
     "output_type": "execute_result"
    }
   ],
   "source": [
    "r2"
   ]
  },
  {
   "cell_type": "code",
   "execution_count": 24,
   "metadata": {},
   "outputs": [
    {
     "data": {
      "image/png": "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\n",
      "text/plain": [
       "<Figure size 1296x864 with 1 Axes>"
      ]
     },
     "metadata": {
      "needs_background": "light"
     },
     "output_type": "display_data"
    }
   ],
   "source": [
    "import matplotlib.pyplot as plt\n",
    "plt.rcParams['figure.figsize'] = (18, 12)\n",
    "\n",
    "fig, ax = plt.subplots()\n",
    "ax.plot(range(len(y_test), 0,-1), y_test, 'Blue')\n",
    "ax.plot(range(len(y_pred), 0,-1), y_pred, 'REd')\n",
    "\n",
    "ax.format_ydata = 'price'\n",
    "ax.set_title('Google Trading')\n",
    "\n",
    "# Add labels\n",
    "plt.ylabel('Price USD')\n",
    "plt.xlabel('Trading Days')\n",
    "\n",
    "plt.show()"
   ]
  }
 ],
 "metadata": {
  "kernelspec": {
   "display_name": "Python 3",
   "language": "python",
   "name": "python3"
  },
  "language_info": {
   "codemirror_mode": {
    "name": "ipython",
    "version": 3
   },
   "file_extension": ".py",
   "mimetype": "text/x-python",
   "name": "python",
   "nbconvert_exporter": "python",
   "pygments_lexer": "ipython3",
   "version": "3.7.1"
  }
 },
 "nbformat": 4,
 "nbformat_minor": 2
}
